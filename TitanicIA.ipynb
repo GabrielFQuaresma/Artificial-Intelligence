{
 "cells": [
  {
   "cell_type": "code",
   "execution_count": 6,
   "metadata": {},
   "outputs": [],
   "source": [
    "import pandas as pd\n",
    "from sklearn.model_selection import train_test_split, RandomizedSearchCV\n",
    "from sklearn.ensemble import RandomForestClassifier\n",
    "from sklearn.tree import DecisionTreeClassifier\n",
    "from sklearn.naive_bayes import GaussianNB\n",
    "from sklearn.metrics import accuracy_score"
   ]
  },
  {
   "cell_type": "code",
   "execution_count": 7,
   "metadata": {},
   "outputs": [],
   "source": [
    "data = pd.read_csv('Titanic/train.csv')"
   ]
  },
  {
   "cell_type": "code",
   "execution_count": 8,
   "metadata": {},
   "outputs": [
    {
     "name": "stderr",
     "output_type": "stream",
     "text": [
      "C:\\Users\\kntpr\\AppData\\Local\\Temp\\ipykernel_9288\\2270738561.py:8: FutureWarning: A value is trying to be set on a copy of a DataFrame or Series through chained assignment using an inplace method.\n",
      "The behavior will change in pandas 3.0. This inplace method will never work because the intermediate object on which we are setting values always behaves as a copy.\n",
      "\n",
      "For example, when doing 'df[col].method(value, inplace=True)', try using 'df.method({col: value}, inplace=True)' or df[col] = df[col].method(value) instead, to perform the operation inplace on the original object.\n",
      "\n",
      "\n",
      "  data_cleaned['Age'].fillna(data_cleaned['Age'].median(), inplace=True)\n",
      "C:\\Users\\kntpr\\AppData\\Local\\Temp\\ipykernel_9288\\2270738561.py:9: FutureWarning: A value is trying to be set on a copy of a DataFrame or Series through chained assignment using an inplace method.\n",
      "The behavior will change in pandas 3.0. This inplace method will never work because the intermediate object on which we are setting values always behaves as a copy.\n",
      "\n",
      "For example, when doing 'df[col].method(value, inplace=True)', try using 'df.method({col: value}, inplace=True)' or df[col] = df[col].method(value) instead, to perform the operation inplace on the original object.\n",
      "\n",
      "\n",
      "  data_cleaned['Embarked'].fillna(data_cleaned['Embarked'].mode()[0], inplace=True)\n"
     ]
    }
   ],
   "source": [
    "from sklearn.model_selection import train_test_split\n",
    "from sklearn.preprocessing import LabelEncoder\n",
    "\n",
    "missing_values = data.isnull().sum()\n",
    "\n",
    "data_cleaned = data.drop(['PassengerId', 'Name', 'Ticket', 'Cabin'], axis=1)\n",
    "\n",
    "data_cleaned['Age'].fillna(data_cleaned['Age'].median(), inplace=True)\n",
    "data_cleaned['Embarked'].fillna(data_cleaned['Embarked'].mode()[0], inplace=True)\n",
    "\n",
    "label_encoder = LabelEncoder()\n",
    "data_cleaned['Sex'] = label_encoder.fit_transform(data_cleaned['Sex'])\n",
    "data_cleaned['Embarked'] = label_encoder.fit_transform(data_cleaned['Embarked'])\n",
    "\n",
    "X = data_cleaned.drop('Survived', axis=1)\n",
    "y = data_cleaned['Survived']\n"
   ]
  },
  {
   "cell_type": "code",
   "execution_count": 9,
   "metadata": {},
   "outputs": [],
   "source": [
    "X_train, X_test, y_train, y_test = train_test_split(X, y, test_size=0.2, random_state=42)"
   ]
  },
  {
   "cell_type": "code",
   "execution_count": 10,
   "metadata": {},
   "outputs": [
    {
     "name": "stdout",
     "output_type": "stream",
     "text": [
      "Fitting 3 folds for each of 10 candidates, totalling 30 fits\n",
      "Fitting 3 folds for each of 10 candidates, totalling 30 fits\n",
      "Naive Bayes Accuracy: 0.7765\n",
      "Random Forest Accuracy: 0.8436\n",
      "Decision Tree Accuracy: 0.8324\n"
     ]
    }
   ],
   "source": [
    "rf = RandomForestClassifier(random_state=42)\n",
    "dt = DecisionTreeClassifier(random_state=42)\n",
    "nb = GaussianNB()\n",
    "\n",
    "rf_param_grid = {\n",
    "    'n_estimators': [50, 100, 200],\n",
    "    'max_depth': [None, 10, 20, 30],\n",
    "    'min_samples_split': [2, 5, 10],\n",
    "    'min_samples_leaf': [1, 2, 4],\n",
    "    'bootstrap': [True, False]\n",
    "}\n",
    "\n",
    "dt_param_grid = {\n",
    "    'max_depth': [None, 10, 20, 30],\n",
    "    'min_samples_split': [2, 5, 10],\n",
    "    'min_samples_leaf': [1, 2, 4],\n",
    "    'criterion': ['gini', 'entropy']\n",
    "}\n",
    "\n",
    "\n",
    "rf_random = RandomizedSearchCV(estimator=rf, param_distributions=rf_param_grid, n_iter=10, cv=3, verbose=1, random_state=42)\n",
    "dt_random = RandomizedSearchCV(estimator=dt, param_distributions=dt_param_grid, n_iter=10, cv=3, verbose=1, random_state=42)\n",
    "\n",
    "rf_random.fit(X_train, y_train)\n",
    "dt_random.fit(X_train, y_train)\n",
    "nb.fit(X_train, y_train)\n",
    "\n",
    "rf_pred = rf_random.predict(X_test)\n",
    "dt_pred = dt_random.predict(X_test)\n",
    "nb_pred = nb.predict(X_test)\n",
    "\n",
    "\n",
    "rf_acc = accuracy_score(y_test, rf_pred)\n",
    "dt_acc = accuracy_score(y_test, dt_pred)\n",
    "nb_acc = accuracy_score(y_test, nb_pred)\n",
    "\n",
    "print(f'Naive Bayes Accuracy: {nb_acc:.4f}')\n",
    "print(f'Random Forest Accuracy: {rf_acc:.4f}')\n",
    "print(f'Decision Tree Accuracy: {dt_acc:.4f}')"
   ]
  }
 ],
 "metadata": {
  "kernelspec": {
   "display_name": "Python 3",
   "language": "python",
   "name": "python3"
  },
  "language_info": {
   "codemirror_mode": {
    "name": "ipython",
    "version": 3
   },
   "file_extension": ".py",
   "mimetype": "text/x-python",
   "name": "python",
   "nbconvert_exporter": "python",
   "pygments_lexer": "ipython3",
   "version": "3.12.4"
  }
 },
 "nbformat": 4,
 "nbformat_minor": 2
}
